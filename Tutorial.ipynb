{
 "cells": [
  {
   "cell_type": "markdown",
   "metadata": {},
   "source": [
    "# Initial imports"
   ]
  },
  {
   "cell_type": "code",
   "execution_count": null,
   "metadata": {},
   "outputs": [],
   "source": [
    "import pandas as pd\n",
    "\n",
    "import os\n",
    "import shutil\n",
    "import torch\n",
    "from typing import Dict\n",
    "\n",
    "from pathlib import Path\n",
    "import matplotlib.pyplot as plt\n",
    "\n",
    "from time import perf_counter\n",
    "\n",
    "import warnings\n",
    "warnings.filterwarnings(\"ignore\")\n",
    "\n",
    "%matplotlib inline"
   ]
  },
  {
   "cell_type": "code",
   "execution_count": null,
   "metadata": {},
   "outputs": [],
   "source": [
    "CACHE_DIR = Path.cwd() / \"__pycache__\"\n",
    "DATA_DIR = Path.cwd() / \"Data\"\n",
    "\n",
    "purge_cache = False  # Set to True to delete the cache directory\n",
    "\n",
    "if purge_cache and CACHE_DIR.exists():\n",
    "    print(\"Purging cache directory\")\n",
    "    for file in CACHE_DIR.iterdir():\n",
    "        file.unlink()\n",
    "    CACHE_DIR.rmdir()\n",
    "    print(\"Cache directory purged\")\n",
    "\n",
    "if not CACHE_DIR.exists():\n",
    "    print(\"Creating cache directory\")\n",
    "    CACHE_DIR.mkdir()\n",
    "    print(\"Cache directory created\")\n",
    "\n",
    "if not DATA_DIR.exists():\n",
    "    raise FileNotFoundError(\n",
    "        \"Data directory not found. Please reclone correctly the repository.\"\n",
    "    )"
   ]
  },
  {
   "cell_type": "markdown",
   "metadata": {},
   "source": [
    "# Running simulation"
   ]
  },
  {
   "cell_type": "code",
   "execution_count": null,
   "metadata": {},
   "outputs": [],
   "source": [
    "if os.name == \"nt\":\n",
    "    EXECUTABLE_PATH = Path.cwd() / \"bin\" / \"xva.exe\"\n",
    "    build_command = \"make windows RELEASE=TRUE\"\n",
    "else:\n",
    "    EXECUTABLE_PATH = Path.cwd() / \"bin\" / \"xva.out\"\n",
    "    build_command = \"make linux RELEASE=TRUE\"\n",
    "\n",
    "use_gpu = False\n",
    "\n",
    "available_gpu = use_gpu and torch.cuda.is_available()"
   ]
  },
  {
   "cell_type": "code",
   "execution_count": null,
   "metadata": {},
   "outputs": [],
   "source": [
    "M0 = 10\n",
    "M1 = 100\n",
    "N = 10**3\n",
    "T = 1\n",
    "\n",
    "XVAS: Dict[str, float] = {\"CVA\": 1.4}\n",
    "\n",
    "if not XVAS:\n",
    "    raise ValueError(\"Please set the XVA parameters\")\n",
    "\n",
    "XVAS_str = \",\".join([f\"{key}={value}\" for key, value in XVAS.items()])"
   ]
  },
  {
   "cell_type": "code",
   "execution_count": null,
   "metadata": {},
   "outputs": [],
   "source": [
    "if not EXECUTABLE_PATH.exists():\n",
    "    print(\"Building the executable\")\n",
    "    if os.system(build_command) != 0:\n",
    "        raise RuntimeError(\"Failed to build the executable\")\n",
    "\n",
    "print(\"All set up!\")\n",
    "\n",
    "if available_gpu:\n",
    "    print(\"GPU is available\")\n",
    "\n",
    "    if shutil.which(\"device-query\") is not None:\n",
    "        os.system(\"device-query\")\n",
    "\n",
    "    t1 = perf_counter()\n",
    "    if os.system(f\"{EXECUTABLE_PATH} {M0} {M1} {N} {T} {XVAS_str}\"):\n",
    "        raise RuntimeError(\"Failed to run the executable\")\n",
    "    print(f\"Execution time: {perf_counter() - t1} seconds\")\n",
    "\n",
    "else:\n",
    "    print(\"GPU is not available or not selected. Running on CPU.\")\n",
    "    t1 = perf_counter()\n",
    "    if os.system(f\"{EXECUTABLE_PATH} --cpu {M0} {M1} {N} {T} {XVAS_str}\"):\n",
    "        raise RuntimeError(\"Failed to run the executable\")\n",
    "    print(f\"Execution time: {perf_counter() - t1} seconds\")\n",
    "\n",
    "print(\"Completed job\")"
   ]
  },
  {
   "cell_type": "code",
   "execution_count": null,
   "metadata": {},
   "outputs": [],
   "source": [
    "df = pd.read_csv(\"Data/results.csv\", index_col=0)\n",
    "\n",
    "df.head()"
   ]
  },
  {
   "cell_type": "code",
   "execution_count": null,
   "metadata": {},
   "outputs": [],
   "source": [
    "plt.figure(figsize=(15, 5))\n",
    "plt.title(\"XVA\")\n",
    "plt.xlabel(\"Time\")\n",
    "plt.ylabel(\"Value\")\n",
    "\n",
    "for col in df.columns:\n",
    "    plt.plot(df.index, df[col], label=col)\n",
    "\n",
    "plt.legend()\n",
    "plt.show()"
   ]
  }
 ],
 "metadata": {
  "kernelspec": {
   "display_name": ".venv",
   "language": "python",
   "name": "python3"
  },
  "language_info": {
   "codemirror_mode": {
    "name": "ipython",
    "version": 3
   },
   "file_extension": ".py",
   "mimetype": "text/x-python",
   "name": "python",
   "nbconvert_exporter": "python",
   "pygments_lexer": "ipython3",
   "version": "3.10.12"
  }
 },
 "nbformat": 4,
 "nbformat_minor": 2
}
