{
 "cells": [
  {
   "cell_type": "markdown",
   "metadata": {},
   "source": [
    "# Initial imports"
   ]
  },
  {
   "cell_type": "code",
   "execution_count": null,
   "metadata": {},
   "outputs": [],
   "source": [
    "import numpy as np\n",
    "import pandas as pd\n",
    "\n",
    "import aiohttp\n",
    "import torch\n",
    "\n",
    "from pathlib import Path\n",
    "import matplotlib.pyplot as plt\n",
    "\n",
    "import warnings\n",
    "warnings.filterwarnings(\"ignore\")\n",
    "\n",
    "%matplotlib inline"
   ]
  },
  {
   "cell_type": "code",
   "execution_count": null,
   "metadata": {},
   "outputs": [],
   "source": [
    "CACHE_DIR = Path.cwd() / \"__pycache__\"\n",
    "DATA_DIR = Path.cwd() / \"Data\"\n",
    "\n",
    "purge_cache = False  # Set to True to delete the cache directory\n",
    "if purge_cache and CACHE_DIR.exists():\n",
    "    print(\"Purging cache directory\")\n",
    "    for file in CACHE_DIR.iterdir():\n",
    "        file.unlink()\n",
    "    CACHE_DIR.rmdir()\n",
    "    print(\"Cache directory purged\")\n",
    "\n",
    "if not CACHE_DIR.exists():\n",
    "    print(\"Creating cache directory\")\n",
    "    CACHE_DIR.mkdir()\n",
    "    print(\"Cache directory created\")\n",
    "\n",
    "if not DATA_DIR.exists():\n",
    "    raise FileNotFoundError(\n",
    "        \"Data directory not found. Please reclone correctly the repository.\"\n",
    "    )"
   ]
  }
 ],
 "metadata": {
  "kernelspec": {
   "display_name": ".venv",
   "language": "python",
   "name": "python3"
  },
  "language_info": {
   "codemirror_mode": {
    "name": "ipython",
    "version": 3
   },
   "file_extension": ".py",
   "mimetype": "text/x-python",
   "name": "python",
   "nbconvert_exporter": "python",
   "pygments_lexer": "ipython3",
   "version": "3.10.11"
  }
 },
 "nbformat": 4,
 "nbformat_minor": 2
}
