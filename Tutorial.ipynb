{
 "cells": [
  {
   "cell_type": "markdown",
   "metadata": {},
   "source": [
    "# Initial imports"
   ]
  },
  {
   "cell_type": "code",
   "execution_count": null,
   "metadata": {},
   "outputs": [],
   "source": [
    "import numpy as np\n",
    "import pandas as pd\n",
    "\n",
    "import aiohttp\n",
    "import torch\n",
    "import os\n",
    "import shutil\n",
    "\n",
    "from pathlib import Path\n",
    "import matplotlib.pyplot as plt\n",
    "\n",
    "from time import perf_counter\n",
    "\n",
    "import warnings\n",
    "warnings.filterwarnings(\"ignore\")\n",
    "\n",
    "%matplotlib inline"
   ]
  },
  {
   "cell_type": "code",
   "execution_count": null,
   "metadata": {},
   "outputs": [],
   "source": [
    "CACHE_DIR = Path.cwd() / \"__pycache__\"\n",
    "DATA_DIR = Path.cwd() / \"Data\"\n",
    "\n",
    "purge_cache = False  # Set to True to delete the cache directory\n",
    "if purge_cache and CACHE_DIR.exists():\n",
    "    print(\"Purging cache directory\")\n",
    "    for file in CACHE_DIR.iterdir():\n",
    "        file.unlink()\n",
    "    CACHE_DIR.rmdir()\n",
    "    print(\"Cache directory purged\")\n",
    "\n",
    "if not CACHE_DIR.exists():\n",
    "    print(\"Creating cache directory\")\n",
    "    CACHE_DIR.mkdir()\n",
    "    print(\"Cache directory created\")\n",
    "\n",
    "if not DATA_DIR.exists():\n",
    "    raise FileNotFoundError(\n",
    "        \"Data directory not found. Please reclone correctly the repository.\"\n",
    "    )"
   ]
  },
  {
   "cell_type": "markdown",
   "metadata": {},
   "source": [
    "# Running simulation"
   ]
  },
  {
   "cell_type": "code",
   "execution_count": null,
   "metadata": {},
   "outputs": [],
   "source": [
    "if os.name == \"nt\":\n",
    "    EXECUTABLE_PATH = Path.cwd() / \"bin\" / \"xva.exe\"\n",
    "    build_command = \"make windows RELEASE=TRUE\"\n",
    "else:\n",
    "    EXECUTABLE_PATH = Path.cwd() / \"bin\" / \"xva.out\"\n",
    "    build_command = \"make linux RELEASE=TRUE\"\n",
    "\n",
    "use_gpu = True\n",
    "\n",
    "available_gpu = torch.cuda.is_available() and use_gpu"
   ]
  },
  {
   "cell_type": "code",
   "execution_count": null,
   "metadata": {},
   "outputs": [],
   "source": [
    "if not EXECUTABLE_PATH.exists():\n",
    "    print(\"Building the executable\")\n",
    "    if os.system(build_command) != 0:\n",
    "        raise RuntimeError(\"Failed to build the executable\")\n",
    "\n",
    "print(\"All set up!\")\n",
    "\n",
    "if available_gpu:\n",
    "    print(\"GPU is available\")\n",
    "\n",
    "    if shutil.which(\"device-query\") is not None:\n",
    "        os.system(\"device-query\")\n",
    "\n",
    "    t1 = perf_counter()\n",
    "    os.system(f\"{EXECUTABLE_PATH}\")\n",
    "    print(f\"Execution time: {perf_counter() - t1:.2f} seconds\")\n",
    "\n",
    "else:\n",
    "    print(\"GPU is not available or not selected. Running on CPU.\")\n",
    "    t1 = perf_counter()\n",
    "    os.system(f\"{EXECUTABLE_PATH} --cpu\")\n",
    "    print(f\"Execution time: {perf_counter() - t1:.2f} seconds\")\n",
    "\n",
    "print(\"Completed job\")"
   ]
  }
 ],
 "metadata": {
  "kernelspec": {
   "display_name": ".venv",
   "language": "python",
   "name": "python3"
  },
  "language_info": {
   "codemirror_mode": {
    "name": "ipython",
    "version": 3
   },
   "file_extension": ".py",
   "mimetype": "text/x-python",
   "name": "python",
   "nbconvert_exporter": "python",
   "pygments_lexer": "ipython3",
   "version": "3.10.12"
  }
 },
 "nbformat": 4,
 "nbformat_minor": 2
}
